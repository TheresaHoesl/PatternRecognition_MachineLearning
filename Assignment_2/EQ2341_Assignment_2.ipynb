{
 "cells": [
  {
   "cell_type": "markdown",
   "metadata": {},
   "source": [
    "# A.2 HMM Forward and Backward Algorithm"
   ]
  },
  {
   "cell_type": "markdown",
   "metadata": {},
   "source": [
    "The forward function can be declared like this: def forward(self, pX), and it should return the values alpha_hat and c. Additionally, you need to finish the logprob function in HMM.py;\n",
    "\n",
    "The backward function can be declared like this: def backward(self, c, pX), and it should return beta_hat.\n",
    "\n",
    "For more information, please refer to chapter A.3 and A.4 at the end of text book. You are required to implement and verify the algorithms according to these chapters of the text book. "
   ]
  },
  {
   "cell_type": "code",
   "execution_count": 1,
   "metadata": {},
   "outputs": [],
   "source": [
    "from PattRecClasses import DiscreteD, GaussD, HMM, MarkovChain\n",
    "from matplotlib import pyplot as plt\n",
    "\n",
    "import numpy as np"
   ]
  },
  {
   "cell_type": "markdown",
   "metadata": {},
   "source": [
    "## A.2.1 Verify the implementation of forward algorithm"
   ]
  },
  {
   "cell_type": "code",
   "execution_count": 2,
   "metadata": {},
   "outputs": [
    {
     "data": {
      "text/plain": [
       "-9.187726979475208"
      ]
     },
     "execution_count": 2,
     "metadata": {},
     "output_type": "execute_result"
    }
   ],
   "source": [
    "# HMM - finite\n",
    "q = np.array([1, 0])\n",
    "A  = np.array([[0.9, 0.1, 0], [0, 0.9, 0.1 ]])\n",
    "mc = MarkovChain(q, A) \n",
    "\n",
    "g1 = GaussD(means=[0], stdevs=[1])   # Distribution for state = 1\n",
    "g2 = GaussD(means=[3], stdevs=[2])   # Distribution for state = 2\n",
    "h_finite  = HMM(mc, [g1, g2]) # The HMM\n",
    "\n",
    "# Observations and calculation of probability matrix\n",
    "x = np.array([-0.2, 2.6, 1.3])\n",
    "scaled_pX = h_finite.prob(x, True)\n",
    "\n",
    "# the forward algorithm\n",
    "alpha_hat_fin, c_fin = mc.forward(scaled_pX)\n",
    "\n",
    "# results\n",
    "alpha_hat_fin, c_fin\n",
    "\n",
    "# try logprob\n",
    "probability = h_finite.logprob(x)\n",
    "probability"
   ]
  },
  {
   "cell_type": "code",
   "execution_count": 14,
   "metadata": {},
   "outputs": [
    {
     "data": {
      "text/plain": [
       "-6.2705547326057935"
      ]
     },
     "execution_count": 14,
     "metadata": {},
     "output_type": "execute_result"
    }
   ],
   "source": [
    "# HMM - infinite\n",
    "\n",
    "q = np.array([1, 0])\n",
    "A  = np.array([[0.9, 0.1], [0.1, 0.9]])\n",
    "mc = MarkovChain(q, A) \n",
    "\n",
    "g1 = GaussD(means=[0], stdevs=[1])   # Distribution for state = 1\n",
    "g2 = GaussD(means=[3], stdevs=[2])   # Distribution for state = 2\n",
    "h_infinite  = HMM(mc, [g1, g2]) # The HMM\n",
    "\n",
    "# Observations and calculation of probability matrix\n",
    "x = np.array([-0.2, 2.6, 1.3])\n",
    "scaled_pX = h_infinite.prob(x, True)\n",
    "\n",
    "# the forward algorithm\n",
    "alpha_hat_infin, c_infin = mc.forward(scaled_pX)\n",
    "\n",
    "# results\n",
    "alpha_hat_infin, c_infin\n",
    "\n",
    "# try logprob\n",
    "probability = h_infinite.logprob(x)\n",
    "probability"
   ]
  },
  {
   "cell_type": "markdown",
   "metadata": {},
   "source": [
    "## A.2.2 Verify the implementation of backward algorithm"
   ]
  },
  {
   "cell_type": "code",
   "execution_count": 12,
   "metadata": {},
   "outputs": [
    {
     "data": {
      "text/plain": [
       "array([[1.        , 1.03893571, 0.        ],\n",
       "       [8.41537925, 9.35042138, 2.08182773]])"
      ]
     },
     "execution_count": 12,
     "metadata": {},
     "output_type": "execute_result"
    }
   ],
   "source": [
    "# HMM - finite\n",
    "q = np.array([1, 0])\n",
    "A  = np.array([[0.9, 0.1, 0], [0, 0.9, 0.1 ]])\n",
    "mc = MarkovChain(q, A) \n",
    "\n",
    "g1 = GaussD(means=[0], stdevs=[1])   # Distribution for state = 1\n",
    "g2 = GaussD(means=[3], stdevs=[2])   # Distribution for state = 2\n",
    "h_finite  = HMM(mc, [g1, g2]) # The HMM\n",
    "\n",
    "# Observations and calculation of probability matrix\n",
    "x = np.array([-0.2, 2.6, 1.3])\n",
    "scaled_pX = h_finite.prob(x, True)\n",
    "\n",
    "# the forward algorithm\n",
    "alpha_hat_fin, c_fin = mc.forward(scaled_pX)\n",
    "\n",
    "# the backward algorithm\n",
    "beta_hat_finite = mc.backward(c_fin, scaled_pX)\n",
    "\n",
    "# result\n",
    "beta_hat_finite\n"
   ]
  },
  {
   "cell_type": "code",
   "execution_count": 13,
   "metadata": {},
   "outputs": [
    {
     "data": {
      "text/plain": [
       "array([[1.        , 6.79725265, 1.12598597],\n",
       "       [5.22233071, 5.75012204, 1.12598597]])"
      ]
     },
     "execution_count": 13,
     "metadata": {},
     "output_type": "execute_result"
    }
   ],
   "source": [
    "# HMM - infinite\n",
    "q = np.array([1, 0])\n",
    "A  = np.array([[0.9, 0.1], [0.1, 0.9]])\n",
    "mc = MarkovChain(q, A) \n",
    "\n",
    "g1 = GaussD(means=[0], stdevs=[1])   # Distribution for state = 1\n",
    "g2 = GaussD(means=[3], stdevs=[2])   # Distribution for state = 2\n",
    "h_infinite  = HMM(mc, [g1, g2]) # The HMM\n",
    "\n",
    "# Observations and calculation of probability matrix\n",
    "x = np.array([-0.2, 2.6, 1.3])\n",
    "scaled_pX = h_infinite.prob(x, True)\n",
    "\n",
    "# the forward algorithm\n",
    "alpha_hat_fin, c_infin = mc.forward(scaled_pX)\n",
    "\n",
    "# the backward algorithm\n",
    "beta_hat_infinite = mc.backward(c_infin, scaled_pX)\n",
    "\n",
    "# result\n",
    "beta_hat_infinite\n"
   ]
  }
 ],
 "metadata": {
  "kernelspec": {
   "display_name": "Python 3",
   "language": "python",
   "name": "python3"
  },
  "language_info": {
   "codemirror_mode": {
    "name": "ipython",
    "version": 3
   },
   "file_extension": ".py",
   "mimetype": "text/x-python",
   "name": "python",
   "nbconvert_exporter": "python",
   "pygments_lexer": "ipython3",
   "version": "3.11.5"
  }
 },
 "nbformat": 4,
 "nbformat_minor": 2
}
