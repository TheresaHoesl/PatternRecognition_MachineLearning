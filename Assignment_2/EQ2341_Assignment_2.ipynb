{
 "cells": [
  {
   "cell_type": "markdown",
   "metadata": {},
   "source": [
    "# A.2 HMM Forward and Backward Algorithm"
   ]
  },
  {
   "cell_type": "markdown",
   "metadata": {},
   "source": [
    "The forward function can be declared like this: def forward(self, pX), and it should return the values alpha_hat and c. Additionally, you need to finish the logprob function in HMM.py;\n",
    "\n",
    "The backward function can be declared like this: def backward(self, c, pX), and it should return beta_hat.\n",
    "\n",
    "For more information, please refer to chapter A.3 and A.4 at the end of text book. You are required to implement and verify the algorithms according to these chapters of the text book. "
   ]
  },
  {
   "cell_type": "code",
   "execution_count": 1,
   "metadata": {},
   "outputs": [],
   "source": [
    "from PattRecClasses import DiscreteD, GaussD, HMM, MarkovChain\n",
    "from matplotlib import pyplot as plt\n",
    "\n",
    "import numpy as np"
   ]
  },
  {
   "cell_type": "markdown",
   "metadata": {},
   "source": [
    "## A.2.1 Verify the implementation of forward algorithm"
   ]
  },
  {
   "cell_type": "code",
   "execution_count": 3,
   "metadata": {},
   "outputs": [
    {
     "name": "stdout",
     "output_type": "stream",
     "text": [
      "Scaled Forward Variables:\n",
      "[[1.         0.38470424 0.41887466]\n",
      " [0.         0.61529576 0.58112534]]\n",
      "Scaled Factors:\n",
      "[0.8757894  0.15196629 0.45640399 0.05811253]\n"
     ]
    },
    {
     "data": {
      "text/plain": [
       "array([[0.8757894 , 0.06495786, 0.55215885],\n",
       "       [0.1242106 , 0.93504214, 0.44784115]])"
      ]
     },
     "execution_count": 3,
     "metadata": {},
     "output_type": "execute_result"
    }
   ],
   "source": [
    "# HMM\n",
    "q = np.array([1, 0])\n",
    "A  = np.array([[0.9, 0.1, 0], [0, 0.9, 0.1 ]])\n",
    "mc = MarkovChain(q, A) \n",
    "\n",
    "g1 = GaussD(means=[0], stdevs=[1])   # Distribution for state = 1\n",
    "g2 = GaussD(means=[3], stdevs=[2])   # Distribution for state = 2\n",
    "h  = HMM(mc, [g1, g2]) # The HMM\n",
    "\n",
    "# Observations and calculation of probability matrix\n",
    "x = np.array([-0.2, 2.6, 1.3])\n",
    "scaled_pX = h.prob(x, True)\n",
    "\n",
    "# the forward algorithm\n",
    "alpha_hat, c = mc.forward(scaled_pX)\n",
    "\n",
    "# results\n",
    "alpha_hat, c"
   ]
  },
  {
   "cell_type": "code",
   "execution_count": 2,
   "metadata": {},
   "outputs": [
    {
     "name": "stdout",
     "output_type": "stream",
     "text": [
      "Values for finite duration HMM:\n",
      "alfaHat:\n",
      "[[1.     0.3847 0.4189]\n",
      " [0.     0.6153 0.5811]]\n",
      "c: \n",
      "[1.     0.1625 0.8266 0.0581]\n"
     ]
    }
   ],
   "source": [
    "from PattRecClasses import GaussD, HMM, MarkovChain\n",
    "import numpy as np\n",
    "\n",
    "#Test Forward algorithm FINITE CHAIN\n",
    "finiteDurationMC = MarkovChain(np.array([1, 0]), np.array([[0.9, 0.1, 0], [0, 0.9, 0.1]])) \n",
    "\n",
    "g1 = GaussD( means=[0], stdevs=[1] )   # Distribution for state = 1\n",
    "g2 = GaussD( means=[3], stdevs=[2] )   # Distribution for state = 2\n",
    "finiteDurationHMM  = HMM(finiteDurationMC, [g1, g2]) \n",
    "observations = np.array([-0.2, 2.6, 1.3])\n",
    "scaledProbOfObservations = finiteDurationHMM.prob(observations, True)\n",
    "alpha, c = finiteDurationMC.forward(scaledProbOfObservations)\n",
    "print(\"Values for finite duration HMM:\")\n",
    "print(\"alfaHat:\")\n",
    "print(np.around(alpha, 4))\n",
    "print(\"c: \")\n",
    "print(np.around(c, 4))"
   ]
  }
 ],
 "metadata": {
  "kernelspec": {
   "display_name": "Python 3",
   "language": "python",
   "name": "python3"
  },
  "language_info": {
   "codemirror_mode": {
    "name": "ipython",
    "version": 3
   },
   "file_extension": ".py",
   "mimetype": "text/x-python",
   "name": "python",
   "nbconvert_exporter": "python",
   "pygments_lexer": "ipython3",
   "version": "3.11.5"
  }
 },
 "nbformat": 4,
 "nbformat_minor": 2
}
