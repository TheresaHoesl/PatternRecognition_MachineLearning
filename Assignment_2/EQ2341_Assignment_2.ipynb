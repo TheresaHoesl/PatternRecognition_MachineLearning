{
 "cells": [
  {
   "cell_type": "markdown",
   "metadata": {},
   "source": [
    "# A.2 HMM Forward and Backward Algorithm"
   ]
  },
  {
   "cell_type": "markdown",
   "metadata": {},
   "source": [
    "The forward function can be declared like this: def forward(self, pX), and it should return the values alpha_hat and c. Additionally, you need to finish the logprob function in HMM.py;\n",
    "\n",
    "The backward function can be declared like this: def backward(self, c, pX), and it should return beta_hat.\n",
    "\n",
    "For more information, please refer to chapter A.3 and A.4 at the end of text book. You are required to implement and verify the algorithms according to these chapters of the text book. "
   ]
  },
  {
   "cell_type": "code",
   "execution_count": 1,
   "metadata": {},
   "outputs": [],
   "source": [
    "from PattRecClasses import DiscreteD, GaussD, HMM, MarkovChain\n",
    "from matplotlib import pyplot as plt\n",
    "\n",
    "import numpy as np"
   ]
  },
  {
   "cell_type": "markdown",
   "metadata": {},
   "source": [
    "## A.2.1 Verify the implementation"
   ]
  },
  {
   "cell_type": "markdown",
   "metadata": {},
   "source": [
    "To verify your code, use the following infinite-duration HMM $\\lambda = {q, A, B}$ as a first test example:\n",
    "\n",
    "<img src=\"images/a_1_2_1.png\" alt=\"test example\" style=\"width: 500px;\">\n",
    "\n",
    "where $b_1(x)$ is a scalar Gaussian density function with mean $\\mu_1 = 0$ and standard deviation $\\sigma_1 = 1$, and $b_2(x)$ is a similar distribution with mean $\\mu_2 = 3$ and standard deviation $\\sigma_2 = 2$."
   ]
  },
  {
   "cell_type": "code",
   "execution_count": 3,
   "metadata": {},
   "outputs": [
    {
     "data": {
      "text/plain": [
       "(0.7082, 0.29179999999999995)"
      ]
     },
     "execution_count": 3,
     "metadata": {},
     "output_type": "execute_result"
    }
   ],
   "source": [
    "# HMM\n",
    "mc = MarkovChain( np.array( [ 0.75, 0.25 ] ), np.array( [ [ 0.99, 0.01 ], [ 0.03, 0.97 ] ] ) ) \n",
    "\n",
    "g1 = GaussD( means=[0], stdevs=[1] )   # Distribution for state = 1\n",
    "g2 = GaussD( means=[3], stdevs=[2] )   # Distribution for state = 2\n",
    "h  = HMM( mc, [g1, g2])                # The HMM\n",
    "\n",
    "# Generate an output sequence\n",
    "N = 10000\n",
    "x,s = h.rand(N)\n",
    "plt.plot( x )\n",
    "plt.xlabel('t')\n",
    "plt.ylabel('X')\n",
    "plt.title('Output of the HMM')"
   ]
  },
  {
   "cell_type": "code",
   "execution_count": 7,
   "metadata": {},
   "outputs": [
    {
     "data": {
      "text/plain": [
       "[7, 39, 11, 9, 8, 8, 15, 4, 5, 8]"
      ]
     },
     "execution_count": 7,
     "metadata": {},
     "output_type": "execute_result"
    }
   ],
   "source": [
    "# HMM with exit state\n",
    "q = np.array([0.5, 0.5, 0])\n",
    "A = np.array([[0.7, 0.25, 0.05], [0.4, 0.55, 0.05]])\n",
    "mc = MarkovChain(q, A)\n",
    "g1 = GaussD( means=[0], stdevs=[1] )   # Distribution for state = 1\n",
    "g2 = GaussD( means=[3], stdevs=[2] )   # Distribution for state = 2\n",
    "h  = HMM( mc, [g1, g2])                # The HMM\n",
    "\n",
    "states = []\n",
    "length_states = []\n",
    "for i in range(10):\n",
    "    x, s = h.rand(100)  # Assuming h.rand(100) returns x and s\n",
    "    states.append(s)\n",
    "    length_states.append(len(s))\n",
    "\n",
    "\n",
    "length_states"
   ]
  }
 ],
 "metadata": {
  "kernelspec": {
   "display_name": "Python 3",
   "language": "python",
   "name": "python3"
  },
  "language_info": {
   "codemirror_mode": {
    "name": "ipython",
    "version": 3
   },
   "file_extension": ".py",
   "mimetype": "text/x-python",
   "name": "python",
   "nbconvert_exporter": "python",
   "pygments_lexer": "ipython3",
   "version": "3.11.5"
  }
 },
 "nbformat": 4,
 "nbformat_minor": 2
}
