{
 "cells": [
  {
   "cell_type": "markdown",
   "metadata": {},
   "source": [
    "# Final project: Activity Recognition"
   ]
  },
  {
   "cell_type": "markdown",
   "metadata": {},
   "source": [
    "The final assignment is to implement a classifier for activity recognition based on data from the phone’s sensors.\n",
    "\n",
    "For this task, first the acceleration using the sensors of a phone was recorded. Then an HMM classifier, that should be able to discriminate between standing still, walking and running, was implemented and its functionality verified."
   ]
  },
  {
   "cell_type": "code",
   "execution_count": 1,
   "metadata": {},
   "outputs": [],
   "source": [
    "%reload_ext autoreload\n",
    "%autoreload 2\n",
    "\n",
    "from PattRecClasses import DiscreteD, GaussD, HMM, MarkovChain\n",
    "from DataHandler import DataHandler\n",
    "from matplotlib import pyplot as plt\n",
    "\n",
    "import numpy as np\n",
    "import pandas as pd"
   ]
  },
  {
   "cell_type": "markdown",
   "metadata": {},
   "source": [
    "### Data - Import and Pre-processing"
   ]
  },
  {
   "cell_type": "code",
   "execution_count": 2,
   "metadata": {},
   "outputs": [],
   "source": [
    "# import\n",
    "\n",
    "# Data for training\n",
    "\n",
    "train = DataHandler('Train')\n",
    "train_data = train.readFile()\n",
    "\n",
    "train_stand = DataHandler('Stand')\n",
    "train_stand_data = train_stand.readFile()\n",
    "train_walk = DataHandler('Walk')\n",
    "train_walk_data = train_walk.readFile()\n",
    "train_run = DataHandler('Run')\n",
    "train_run_data = train_run.readFile()\n",
    "\n",
    "\n",
    "\n",
    "# Data for testing\n",
    "\n",
    "test_stand = DataHandler('Stand2')\n",
    "test_stand_data = test_stand.readFile()\n",
    "test_stand2 = DataHandler('Stand3')\n",
    "test_stand_data2 = test_stand2.readFile()\n",
    "test_stand3 = DataHandler('Stand4')\n",
    "test_stand_data3 = test_stand3.readFile()\n",
    "\n",
    "test_walk = DataHandler('Walk2')\n",
    "test_walk_data = test_walk.readFile()\n",
    "test_walk2 = DataHandler('Walk3')\n",
    "test_walk_data2 = test_walk2.readFile()\n",
    "test_walk3 = DataHandler('Walk4')\n",
    "test_walk_data3 = test_walk3.readFile()\n",
    "\n",
    "test_run = DataHandler('Run2')\n",
    "test_run_data = test_run.readFile()\n",
    "test_run2 = DataHandler('Run3')\n",
    "test_run_data2 = test_run2.readFile()\n",
    "test_run3 = DataHandler('Run4')\n",
    "test_run_data3 = test_run3.readFile()\n",
    "\n",
    "test = DataHandler('Test')\n",
    "test_data = test.readFile()"
   ]
  },
  {
   "cell_type": "markdown",
   "metadata": {},
   "source": [
    "### Characterize output distributions: mean and covariance matrix"
   ]
  },
  {
   "cell_type": "code",
   "execution_count": 3,
   "metadata": {},
   "outputs": [],
   "source": [
    "# g1 - standing\n",
    "mean_stand = np.mean(train_stand_data, axis = 0)\n",
    "centered_data = train_stand_data - mean_stand\n",
    "cov_stand = np.dot(centered_data.T, centered_data) / (len(train_stand_data) - 1)\n",
    "\n",
    "# g2 - walking\n",
    "mean_walk = np.mean(train_walk_data, axis = 0)\n",
    "centered_data = train_walk_data - mean_walk\n",
    "cov_walk = np.dot(centered_data.T, centered_data) / (len(train_walk_data) - 1)\n",
    "\n",
    "# g3 - running\n",
    "mean_run = np.mean(train_run_data, axis = 0)\n",
    "centered_data = train_run_data - mean_run\n",
    "cov_run = np.dot(centered_data.T, centered_data) / (len(train_run_data) - 1)"
   ]
  },
  {
   "cell_type": "markdown",
   "metadata": {},
   "source": [
    "### Create and initialize HMM"
   ]
  },
  {
   "cell_type": "code",
   "execution_count": 4,
   "metadata": {},
   "outputs": [],
   "source": [
    "# infinite HMM, with three states: standing (S1), walking (S2), running (S3)\n",
    "\n",
    "q = np.array([1/3, 1/3, 1/3])\n",
    "A  = np.array([[0.9, 0.05, 0.05], [0.05, 0.9, 0.05], [0.05, 0.05, 0.9]])\n",
    "mc = MarkovChain(q, A) \n",
    "\n",
    "g1 = GaussD(means=mean_stand, cov = cov_stand)  # Distribution for state 'standing'\n",
    "g2 = GaussD(means=mean_walk, cov = cov_walk)    # Distribution for state 'walking'\n",
    "g3 = GaussD(means=mean_run, cov = cov_run)      # Distribution for state 'running'\n",
    "h  = HMM(mc, [g1, g2, g3])                      # The HMM"
   ]
  },
  {
   "cell_type": "markdown",
   "metadata": {},
   "source": [
    "### Train HMM"
   ]
  },
  {
   "cell_type": "code",
   "execution_count": 5,
   "metadata": {},
   "outputs": [],
   "source": [
    "h.train(train_data)\n",
    "\n",
    "# set q back to equal probabilities: test sequences can start with any state\n",
    "h.stateGen.q = np.array([1/3, 1/3, 1/3])"
   ]
  },
  {
   "cell_type": "markdown",
   "metadata": {},
   "source": [
    "### Verify HMM by isolated activities and one sequence containg all"
   ]
  },
  {
   "cell_type": "code",
   "execution_count": 6,
   "metadata": {},
   "outputs": [
    {
     "name": "stdout",
     "output_type": "stream",
     "text": [
      "Accuracy: 1.0\n"
     ]
    }
   ],
   "source": [
    "# standing\n",
    "states_stand = h.viterbi(test_stand_data).reshape(-1, 1)\n",
    "states_stand2 = h.viterbi(test_stand_data2).reshape(-1, 1)\n",
    "states_stand3 = h.viterbi(test_stand_data3).reshape(-1, 1)\n",
    "standing = np.concatenate((states_stand, states_stand2, states_stand3))\n",
    "\n",
    "count = 0\n",
    "for t in range(len(standing)):\n",
    "    if standing[t] != 0:\n",
    "        count += 1       \n",
    "        \n",
    "accuracy = (len(standing) - count)/len(standing)\n",
    "print('Accuracy:', accuracy)\n"
   ]
  },
  {
   "cell_type": "code",
   "execution_count": 7,
   "metadata": {},
   "outputs": [
    {
     "name": "stdout",
     "output_type": "stream",
     "text": [
      "Accuracy: 0.8561643835616438\n"
     ]
    }
   ],
   "source": [
    "# walking\n",
    "states_walk = h.viterbi(test_walk_data).reshape(-1, 1)\n",
    "states_walk2 = h.viterbi(test_walk_data2).reshape(-1, 1)\n",
    "states_walk3 = h.viterbi(test_walk_data3).reshape(-1, 1)\n",
    "walking = np.concatenate((states_walk, states_walk2, states_walk3))\n",
    "\n",
    "count = 0\n",
    "for t in range(len(walking)):\n",
    "    if walking[t] != 1:\n",
    "        count += 1\n",
    "accuracy = (len(walking) - count)/len(walking)\n",
    "print('Accuracy:', accuracy)"
   ]
  },
  {
   "cell_type": "code",
   "execution_count": 8,
   "metadata": {},
   "outputs": [
    {
     "name": "stdout",
     "output_type": "stream",
     "text": [
      "Accuracy: 0.9376053962900506\n"
     ]
    }
   ],
   "source": [
    "# running\n",
    "states_run = h.viterbi(test_run_data).reshape(-1, 1)\n",
    "states_run2 = h.viterbi(test_run_data2).reshape(-1, 1)\n",
    "states_run3 = h.viterbi(test_run_data3).reshape(-1, 1)\n",
    "running = np.concatenate((states_run, states_run2, states_run3))\n",
    "\n",
    "count = 0\n",
    "for t in range(len(running)):\n",
    "    if running[t] != 2:\n",
    "        count += 1\n",
    "accuracy = (len(running) - count)/len(running)\n",
    "print('Accuracy:', accuracy)"
   ]
  },
  {
   "cell_type": "code",
   "execution_count": 9,
   "metadata": {},
   "outputs": [
    {
     "data": {
      "image/png": "[encoded data removed]",
      "text/plain": [
       "<Figure size 640x480 with 1 Axes>"
      ]
     },
     "metadata": {},
     "output_type": "display_data"
    }
   ],
   "source": [
    "# sequence: 5 sec of each state\n",
    "states_test = h.viterbi(test_data).reshape(-1, 1)\n",
    "\n",
    "# apply majority filter to filter outliers\n",
    "def majority_filter(seq, window_size):\n",
    "    filtered = np.zeros(len(seq))\n",
    "    for i in range(len(seq)):\n",
    "        start = max(0, i - window_size // 2)\n",
    "        end = min(len(seq), i + (window_size // 2) + 1)\n",
    "        filtered[i] = np.bincount(seq[start:end, 0].astype(int)).argmax()\n",
    "    return filtered\n",
    "\n",
    "smoothed_states = majority_filter(states_test, window_size=20)\n",
    "\n",
    "# Plot smoothed states\n",
    "plt.plot(smoothed_states)\n",
    "plt.xlabel('Time instance')\n",
    "plt.ylabel('State')\n",
    "plt.title('Smoothed States')\n",
    "plt.show()"
   ]
  }
 ],
 "metadata": {
  "kernelspec": {
   "display_name": "Python 3",
   "language": "python",
   "name": "python3"
  },
  "language_info": {
   "codemirror_mode": {
    "name": "ipython",
    "version": 3
   },
   "file_extension": ".py",
   "mimetype": "text/x-python",
   "name": "python",
   "nbconvert_exporter": "python",
   "pygments_lexer": "ipython3",
   "version": "3.11.5"
  }
 },
 "nbformat": 4,
 "nbformat_minor": 2
}
