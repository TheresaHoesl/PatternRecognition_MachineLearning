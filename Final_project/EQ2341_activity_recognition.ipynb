{
 "cells": [
  {
   "cell_type": "markdown",
   "metadata": {},
   "source": [
    "# Final project: Activity Recognition"
   ]
  },
  {
   "cell_type": "markdown",
   "metadata": {},
   "source": [
    "The final assignment is to implement a classifier for activity recognition based on data from the phone’s sensors.\n",
    "\n",
    "For this task, first the acceleration using the sensors of a phone was recorded. Then an HMM classifier that should be able to discriminate between, standing still, walking and running was implemented and its functionality verified."
   ]
  },
  {
   "cell_type": "code",
   "execution_count": 1,
   "metadata": {},
   "outputs": [],
   "source": [
    "from PattRecClasses import DiscreteD, GaussD, HMM, MarkovChain\n",
    "from matplotlib import pyplot as plt\n",
    "\n",
    "import numpy as np\n",
    "import pandas as pd"
   ]
  },
  {
   "cell_type": "markdown",
   "metadata": {},
   "source": [
    "### Data - Import and Pre-processing"
   ]
  },
  {
   "cell_type": "code",
   "execution_count": 2,
   "metadata": {},
   "outputs": [
    {
     "data": {
      "text/plain": [
       "(array([ 79., 230., 190., 220., 247., 240., 408., 449., 205.,  22.]),\n",
       " array([-0.00368195, -0.00023376,  0.00321442,  0.0066626 ,  0.01011078,\n",
       "         0.01355896,  0.01700714,  0.02045532,  0.0239035 ,  0.02735168,\n",
       "         0.03079987]),\n",
       " <BarContainer object of 10 artists>)"
      ]
     },
     "execution_count": 2,
     "metadata": {},
     "output_type": "execute_result"
    },
    {
     "data": {
      "image/png": "[encoded data removed]",
      "text/plain": [
       "<Figure size 640x480 with 1 Axes>"
      ]
     },
     "metadata": {},
     "output_type": "display_data"
    }
   ],
   "source": [
    "# import\n",
    "s0 = pd.read_csv('Data/Standing.csv')\n",
    "# drop unnecessary columns\n",
    "s0 = s0.drop(columns = ['time', 'gFTotal'])\n",
    "# moving average + drop NaN due to filtering\n",
    "s0 = s0.rolling(window=10).mean().dropna()\n",
    "# convert dataframe into array\n",
    "s0 = s0.values\n",
    "\n",
    "# now do that for all instances\n",
    "s1 = pd.read_csv('Data/Standing2.csv')\n",
    "s1 = s1.drop(columns = ['time', 'gFTotal'])\n",
    "s1 = s1.rolling(window=10).mean().dropna().values\n",
    "s2 = pd.read_csv('Data/Standing3.csv')\n",
    "s2 = s2.drop(columns = ['time', 'gFTotal'])\n",
    "s2 = s2.rolling(window=10).mean().dropna().values\n",
    "s3 = pd.read_csv('Data/Standing4.csv')\n",
    "s3 = s3.drop(columns = ['time', 'gFTotal'])\n",
    "s3 = s3.rolling(window=10).mean().dropna().values\n",
    "\n",
    "standing = np.concatenate([s0, s1, s2])\n",
    "standing = np.concatenate([standing, s3])\n",
    "\n",
    "standing_a = np.zeros(len(standing))\n",
    "for i in range(len(standing)):\n",
    "    standing_a[i] = standing[i][0]**2 + standing[i][1]**2 + standing[i][2]**2\n",
    "\n",
    "w0 = pd.read_csv('Data/Walking.csv')\n",
    "w0 = w0.drop(columns = ['time', 'gFTotal'])\n",
    "w0 = w0.rolling(window=10).mean().dropna().values\n",
    "w1 = pd.read_csv('Data/Walking2.csv')\n",
    "w1 = w1.drop(columns = ['time', 'gFTotal'])\n",
    "w1 = w1.rolling(window=10).mean().dropna().values\n",
    "w2 = pd.read_csv('Data/Walking3.csv')\n",
    "w2 = w2.drop(columns = ['time', 'gFTotal'])\n",
    "w2 = w2.rolling(window=10).mean().dropna().values\n",
    "w3 = pd.read_csv('Data/Walking4.csv')\n",
    "w3 = w3.drop(columns = ['time', 'gFTotal'])\n",
    "w3 = w3.rolling(window=10).mean().dropna().values\n",
    "\n",
    "walking = np.concatenate([w0, w1, w2])\n",
    "walking = np.concatenate([walking, w3])\n",
    "\n",
    "r0 = pd.read_csv('Data/Running.csv')\n",
    "r0 = r0.drop(columns = ['time', 'gFTotal'])\n",
    "r0 = r0.rolling(window=10).mean().dropna().values\n",
    "r1 = pd.read_csv('Data/Running2.csv')\n",
    "r1 = r1.drop(columns = ['time', 'gFTotal'])\n",
    "r1 = r1.rolling(window=10).mean().dropna().values\n",
    "r2 = pd.read_csv('Data/Running3.csv')\n",
    "r2 = r2.drop(columns = ['time', 'gFTotal'])\n",
    "r2 = r2.rolling(window=10).mean().dropna().values\n",
    "r3 = pd.read_csv('Data/Running4.csv')\n",
    "r3 = r3.drop(columns = ['time', 'gFTotal'])\n",
    "r3 = r3.rolling(window=10).mean().dropna().values\n",
    "\n",
    "running = np.concatenate([r0, r1, r2])\n",
    "running = np.concatenate([running, r3])\n",
    "\n",
    "walking_a = np.zeros(len(walking))\n",
    "for i in range(len(walking)):\n",
    "    walking_a[i] = walking[i][0]**2+walking[i][1]**2+walking[i][2]**2\n",
    "    \n",
    "running_a = np.zeros(len(running))\n",
    "for i in range(len(running)):\n",
    "    running_a[i] = running[i][0]**2+running[i][1]**2+running[i][2]**2\n",
    "\n",
    "plt.hist(standing[:,0])\n",
    "#plt.hist(walking_a)\n",
    "#plt.hist(running_a)"
   ]
  },
  {
   "cell_type": "markdown",
   "metadata": {},
   "source": [
    "### Create and initialize HMM"
   ]
  },
  {
   "cell_type": "code",
   "execution_count": 3,
   "metadata": {},
   "outputs": [
    {
     "ename": "TypeError",
     "evalue": "'int' object is not iterable",
     "output_type": "error",
     "traceback": [
      "\u001b[1;31m---------------------------------------------------------------------------\u001b[0m",
      "\u001b[1;31mTypeError\u001b[0m                                 Traceback (most recent call last)",
      "Cell \u001b[1;32mIn[3], line 13\u001b[0m\n\u001b[0;32m      9\u001b[0m g3 \u001b[38;5;241m=\u001b[39m GaussD(means\u001b[38;5;241m=\u001b[39m[\u001b[38;5;241m0\u001b[39m, \u001b[38;5;241m0\u001b[39m, \u001b[38;5;241m0\u001b[39m], stdevs\u001b[38;5;241m=\u001b[39m\u001b[38;5;241m1\u001b[39m) \u001b[38;5;66;03m# Distribution for state 'running'\u001b[39;00m\n\u001b[0;32m     10\u001b[0m h  \u001b[38;5;241m=\u001b[39m HMM(mc, [g1, g2, g3])           \u001b[38;5;66;03m# The HMM\u001b[39;00m\n\u001b[1;32m---> 13\u001b[0m h\u001b[38;5;241m.\u001b[39mtrain(standing)\n",
      "File \u001b[1;32mc:\\Users\\there\\OneDrive\\Desktop\\Master\\PatternRecognition_MachineLearning\\Final_project\\PattRecClasses\\HMM.py:199\u001b[0m, in \u001b[0;36mHMM.train\u001b[1;34m(self, seq)\u001b[0m\n\u001b[0;32m    196\u001b[0m \u001b[38;5;28mself\u001b[39m\u001b[38;5;241m.\u001b[39mstateGen\u001b[38;5;241m.\u001b[39mA \u001b[38;5;241m=\u001b[39m A\n\u001b[0;32m    198\u001b[0m \u001b[38;5;66;03m# update output distributions\u001b[39;00m\n\u001b[1;32m--> 199\u001b[0m mean, cov \u001b[38;5;241m=\u001b[39m \u001b[38;5;28mself\u001b[39m\u001b[38;5;241m.\u001b[39mget_B(alpha_hat, beta_hat, c, seq)\n\u001b[0;32m    200\u001b[0m \u001b[38;5;28mself\u001b[39m\u001b[38;5;241m.\u001b[39moutputDistr \u001b[38;5;241m=\u001b[39m [GaussD(mean[i], cov\u001b[38;5;241m=\u001b[39mcov[i]) \u001b[38;5;28;01mfor\u001b[39;00m i \u001b[38;5;129;01min\u001b[39;00m \u001b[38;5;28mrange\u001b[39m(\u001b[38;5;28mlen\u001b[39m(\u001b[38;5;28mself\u001b[39m\u001b[38;5;241m.\u001b[39moutputDistr))]\n",
      "File \u001b[1;32mc:\\Users\\there\\OneDrive\\Desktop\\Master\\PatternRecognition_MachineLearning\\Final_project\\PattRecClasses\\HMM.py:133\u001b[0m, in \u001b[0;36mHMM.get_B\u001b[1;34m(self, alpha_hat, beta_hat, c, seq)\u001b[0m\n\u001b[0;32m    129\u001b[0m         co \u001b[38;5;241m+\u001b[39m\u001b[38;5;241m=\u001b[39m (seq[t, i] \u001b[38;5;241m-\u001b[39m np\u001b[38;5;241m.\u001b[39matleast_2d(mean[i]))\u001b[38;5;241m*\u001b[39m(seq[t, i] \u001b[38;5;241m-\u001b[39m np\u001b[38;5;241m.\u001b[39matleast_2d(mean[i]))\u001b[38;5;241m.\u001b[39mT\n\u001b[0;32m    131\u001b[0m \u001b[38;5;66;03m# normalization\u001b[39;00m\n\u001b[1;32m--> 133\u001b[0m \u001b[38;5;28;01mfor\u001b[39;00m i \u001b[38;5;129;01min\u001b[39;00m nr_states:\n\u001b[0;32m    134\u001b[0m     cov \u001b[38;5;241m=\u001b[39m co\u001b[38;5;241m/\u001b[39mg\n\u001b[0;32m    136\u001b[0m \u001b[38;5;28;01mreturn\u001b[39;00m mean, cov\n",
      "\u001b[1;31mTypeError\u001b[0m: 'int' object is not iterable"
     ]
    }
   ],
   "source": [
    "# infinite HMM, with three states: standing (S1), walking (S2), running (S3)\n",
    "\n",
    "q = np.array([1/3, 1/3, 1/3])\n",
    "A  = np.array([[1/3, 1/3, 1/3], [1/3, 1/3, 1/3], [1/3, 1/3, 1/3]])\n",
    "mc = MarkovChain(q, A) \n",
    "\n",
    "g1 = GaussD(means=[0, 0, 0], stdevs=1) # Distribution for state 'standing'\n",
    "g2 = GaussD(means=[0, 0, 0], stdevs=1) # Distribution for state 'walking'\n",
    "g3 = GaussD(means=[0, 0, 0], stdevs=1) # Distribution for state 'running'\n",
    "h  = HMM(mc, [g1, g2, g3])           # The HMM\n",
    "\n",
    "\n",
    "h.train(standing)\n"
   ]
  },
  {
   "cell_type": "markdown",
   "metadata": {},
   "source": [
    "### Train HMM"
   ]
  },
  {
   "cell_type": "code",
   "execution_count": null,
   "metadata": {},
   "outputs": [
    {
     "data": {
      "text/plain": [
       "1.9362534792162478"
      ]
     },
     "execution_count": 9,
     "metadata": {},
     "output_type": "execute_result"
    }
   ],
   "source": [
    "0.1339874267578125**2+0.5119781494140625**2+1.28692626953125**2"
   ]
  },
  {
   "cell_type": "markdown",
   "metadata": {},
   "source": [
    "### Verify HMM"
   ]
  }
 ],
 "metadata": {
  "kernelspec": {
   "display_name": "Python 3",
   "language": "python",
   "name": "python3"
  },
  "language_info": {
   "codemirror_mode": {
    "name": "ipython",
    "version": 3
   },
   "file_extension": ".py",
   "mimetype": "text/x-python",
   "name": "python",
   "nbconvert_exporter": "python",
   "pygments_lexer": "ipython3",
   "version": "3.11.5"
  }
 },
 "nbformat": 4,
 "nbformat_minor": 2
}
