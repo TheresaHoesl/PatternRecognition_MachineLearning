{
 "cells": [
  {
   "cell_type": "markdown",
   "metadata": {},
   "source": [
    "# Final project: Activity Recognition"
   ]
  },
  {
   "cell_type": "markdown",
   "metadata": {},
   "source": [
    "The final assignment is to implement a classifier for activity recognition based on data from the phone’s sensors.\n",
    "\n",
    "For this task, first the acceleration using the sensors of a phone was recorded. Then an HMM classifier, that should be able to discriminate between standing still, walking and running, was implemented and its functionality verified."
   ]
  },
  {
   "cell_type": "code",
   "execution_count": 14,
   "metadata": {},
   "outputs": [],
   "source": [
    "%reload_ext autoreload\n",
    "%autoreload 2\n",
    "\n",
    "from PattRecClasses import DiscreteD, GaussD, HMM, MarkovChain\n",
    "from DataHandler import DataHandler\n",
    "from matplotlib import pyplot as plt\n",
    "\n",
    "import numpy as np\n",
    "import pandas as pd"
   ]
  },
  {
   "cell_type": "markdown",
   "metadata": {},
   "source": [
    "### Data - Import and Pre-processing"
   ]
  },
  {
   "cell_type": "code",
   "execution_count": 15,
   "metadata": {},
   "outputs": [],
   "source": [
    "# import\n",
    "\n",
    "# Data for training\n",
    "train = DataHandler('Train')\n",
    "train_data = train.readFile()\n",
    "\n",
    "train_stand = DataHandler('Stand')\n",
    "train_stand_data = train_stand.readFile()\n",
    "train_walk = DataHandler('Walk')\n",
    "train_walk_data = train_walk.readFile()\n",
    "train_run = DataHandler('Run')\n",
    "train_run_data = train_run.readFile()\n",
    "\n",
    "\n",
    "# Data for testing\n",
    "test_stand = DataHandler('Stand2')\n",
    "test_stand_data = test_stand.readFile()\n",
    "test_stand2 = DataHandler('Stand3')\n",
    "test_stand_data2 = test_stand2.readFile()\n",
    "test_stand3 = DataHandler('Stand4')\n",
    "test_stand_data3 = test_stand3.readFile()\n",
    "\n",
    "test_walk = DataHandler('Walk2')\n",
    "test_walk_data = test_walk.readFile()\n",
    "test_walk2 = DataHandler('Walk3')\n",
    "test_walk_data2 = test_walk2.readFile()\n",
    "test_walk3 = DataHandler('Walk4')\n",
    "test_walk_data3 = test_walk3.readFile()\n",
    "\n",
    "test_run = DataHandler('Run2')\n",
    "test_run_data = test_run.readFile()\n",
    "test_run2 = DataHandler('Run3')\n",
    "test_run_data2 = test_run2.readFile()\n",
    "test_run3 = DataHandler('Run4')\n",
    "test_run_data3 = test_run3.readFile()"
   ]
  },
  {
   "cell_type": "markdown",
   "metadata": {},
   "source": [
    "### Characterise output distributions"
   ]
  },
  {
   "cell_type": "code",
   "execution_count": 17,
   "metadata": {},
   "outputs": [],
   "source": [
    "# g1 - standing\n",
    "mean_stand = np.mean(train_stand_data, axis = 0)\n",
    "centered_data = train_stand_data - mean_stand\n",
    "cov_stand = np.dot(centered_data.T, centered_data) / (len(train_stand_data) - 1)\n",
    "\n",
    "# g2 - walking\n",
    "mean_walk = np.mean(train_walk_data, axis = 0)\n",
    "centered_data = train_walk_data - mean_walk\n",
    "cov_walk = np.dot(centered_data.T, centered_data) / (len(train_walk_data) - 1)\n",
    "\n",
    "# g3 - running\n",
    "mean_run = np.mean(train_run_data, axis = 0)\n",
    "centered_data = train_run_data - mean_run\n",
    "cov_run = np.dot(centered_data.T, centered_data) / (len(train_run_data) - 1)"
   ]
  },
  {
   "cell_type": "markdown",
   "metadata": {},
   "source": [
    "### Create and initialize HMM"
   ]
  },
  {
   "cell_type": "code",
   "execution_count": 18,
   "metadata": {},
   "outputs": [],
   "source": [
    "# infinite HMM, with three states: standing (S1), walking (S2), running (S3)\n",
    "\n",
    "q = np.array([1/3, 1/3, 1/3])\n",
    "A  = np.array([[0.9, 0.05, 0.05], [0.05, 0.9, 0.05], [0.05, 0.05, 0.9]])\n",
    "mc = MarkovChain(q, A) \n",
    "\n",
    "g1 = GaussD(means=mean_stand, cov = cov_stand)  # Distribution for state 'standing'\n",
    "g2 = GaussD(means=mean_walk, cov = cov_walk)    # Distribution for state 'walking'\n",
    "g3 = GaussD(means=mean_run, cov = cov_run)      # Distribution for state 'running'\n",
    "h  = HMM(mc, [g1, g2, g3])                      # The HMM"
   ]
  },
  {
   "cell_type": "markdown",
   "metadata": {},
   "source": [
    "### Train HMM"
   ]
  },
  {
   "cell_type": "code",
   "execution_count": null,
   "metadata": {},
   "outputs": [],
   "source": [
    "h.train(train)\n",
    "\n",
    "# set q back to equal probabilities\n",
    "h.stateGen.q = np.array([1/3, 1/3, 1/3])"
   ]
  },
  {
   "cell_type": "code",
   "execution_count": 8,
   "metadata": {},
   "outputs": [
    {
     "data": {
      "text/plain": [
       "[<matplotlib.lines.Line2D at 0x1b77191fc90>]"
      ]
     },
     "execution_count": 8,
     "metadata": {},
     "output_type": "execute_result"
    },
    {
     "data": {
      "image/png": "[encoded data removed]",
      "text/plain": [
       "<Figure size 640x480 with 1 Axes>"
      ]
     },
     "metadata": {},
     "output_type": "display_data"
    }
   ],
   "source": [
    "test = h.viterbi(test)\n",
    "\n",
    "plt.plot(test)"
   ]
  },
  {
   "cell_type": "markdown",
   "metadata": {},
   "source": [
    "### Verify HMM"
   ]
  }
 ],
 "metadata": {
  "kernelspec": {
   "display_name": "Python 3",
   "language": "python",
   "name": "python3"
  },
  "language_info": {
   "codemirror_mode": {
    "name": "ipython",
    "version": 3
   },
   "file_extension": ".py",
   "mimetype": "text/x-python",
   "name": "python",
   "nbconvert_exporter": "python",
   "pygments_lexer": "ipython3",
   "version": "3.11.5"
  }
 },
 "nbformat": 4,
 "nbformat_minor": 2
}
