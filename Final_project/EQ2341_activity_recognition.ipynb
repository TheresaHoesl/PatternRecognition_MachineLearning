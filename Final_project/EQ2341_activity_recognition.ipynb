{
 "cells": [
  {
   "cell_type": "markdown",
   "metadata": {},
   "source": [
    "# Final project: Activity Recognition"
   ]
  },
  {
   "cell_type": "markdown",
   "metadata": {},
   "source": [
    "The final assignment is to implement a classifier for activity recognition based on data from the phone’s sensors.\n",
    "\n",
    "For this task, first the acceleration using the sensors of a phone was recorded. Then an HMM classifier, that should be able to discriminate between standing still, walking and running, was implemented and its functionality verified."
   ]
  },
  {
   "cell_type": "code",
   "execution_count": 25,
   "metadata": {},
   "outputs": [],
   "source": [
    "%reload_ext autoreload\n",
    "%autoreload 2\n",
    "\n",
    "from PattRecClasses import DiscreteD, GaussD, HMM, MarkovChain\n",
    "from DataHandler import DataHandler\n",
    "from matplotlib import pyplot as plt\n",
    "\n",
    "import numpy as np\n",
    "import pandas as pd"
   ]
  },
  {
   "cell_type": "markdown",
   "metadata": {},
   "source": [
    "### Data - Import and Pre-processing"
   ]
  },
  {
   "cell_type": "code",
   "execution_count": 27,
   "metadata": {},
   "outputs": [],
   "source": [
    "# import\n",
    "\n",
    "# Data for training\n",
    "train = DataHandler('Train')\n",
    "train_data = train.readFile()\n",
    "\n",
    "train_stand = DataHandler('Stand')\n",
    "train_stand_data = train_stand.readFile()\n",
    "train_walk = DataHandler('Walk')\n",
    "train_walk_data = train_walk.readFile()\n",
    "train_run = DataHandler('Run')\n",
    "train_run_data = train_run.readFile()\n",
    "\n",
    "\n",
    "# Data for testing\n",
    "test_stand = DataHandler('Stand2')\n",
    "test_stand_data = test_stand.readFile()\n",
    "test_stand2 = DataHandler('Stand3')\n",
    "test_stand_data2 = test_stand2.readFile()\n",
    "test_stand3 = DataHandler('Stand4')\n",
    "test_stand_data3 = test_stand3.readFile()\n",
    "\n",
    "test_walk = DataHandler('Walk2')\n",
    "test_walk_data = test_walk.readFile()\n",
    "test_walk2 = DataHandler('Walk3')\n",
    "test_walk_data2 = test_walk2.readFile()\n",
    "test_walk3 = DataHandler('Walk4')\n",
    "test_walk_data3 = test_walk3.readFile()\n",
    "\n",
    "test_run = DataHandler('Run2')\n",
    "test_run_data = test_run.readFile()\n",
    "test_run2 = DataHandler('Run3')\n",
    "test_run_data2 = test_run2.readFile()\n",
    "test_run3 = DataHandler('Run4')\n",
    "test_run_data3 = test_run3.readFile()"
   ]
  },
  {
   "cell_type": "markdown",
   "metadata": {},
   "source": [
    "### Characterize output distributions"
   ]
  },
  {
   "cell_type": "code",
   "execution_count": 28,
   "metadata": {},
   "outputs": [],
   "source": [
    "# g1 - standing\n",
    "mean_stand = np.mean(train_stand_data, axis = 0)\n",
    "centered_data = train_stand_data - mean_stand\n",
    "cov_stand = np.dot(centered_data.T, centered_data) / (len(train_stand_data) - 1)\n",
    "\n",
    "# g2 - walking\n",
    "mean_walk = np.mean(train_walk_data, axis = 0)\n",
    "centered_data = train_walk_data - mean_walk\n",
    "cov_walk = np.dot(centered_data.T, centered_data) / (len(train_walk_data) - 1)\n",
    "\n",
    "# g3 - running\n",
    "mean_run = np.mean(train_run_data, axis = 0)\n",
    "centered_data = train_run_data - mean_run\n",
    "cov_run = np.dot(centered_data.T, centered_data) / (len(train_run_data) - 1)"
   ]
  },
  {
   "cell_type": "markdown",
   "metadata": {},
   "source": [
    "### Create and initialize HMM"
   ]
  },
  {
   "cell_type": "code",
   "execution_count": 29,
   "metadata": {},
   "outputs": [],
   "source": [
    "# infinite HMM, with three states: standing (S1), walking (S2), running (S3)\n",
    "\n",
    "q = np.array([1/3, 1/3, 1/3])\n",
    "A  = np.array([[0.9, 0.05, 0.05], [0.05, 0.9, 0.05], [0.05, 0.05, 0.9]])\n",
    "mc = MarkovChain(q, A) \n",
    "\n",
    "g1 = GaussD(means=mean_stand, cov = cov_stand)  # Distribution for state 'standing'\n",
    "g2 = GaussD(means=mean_walk, cov = cov_walk)    # Distribution for state 'walking'\n",
    "g3 = GaussD(means=mean_run, cov = cov_run)      # Distribution for state 'running'\n",
    "h  = HMM(mc, [g1, g2, g3])                      # The HMM"
   ]
  },
  {
   "cell_type": "markdown",
   "metadata": {},
   "source": [
    "### Train HMM"
   ]
  },
  {
   "cell_type": "code",
   "execution_count": 30,
   "metadata": {},
   "outputs": [],
   "source": [
    "h.train(train_data)\n",
    "\n",
    "# set q back to equal probabilities\n",
    "h.stateGen.q = np.array([1/3, 1/3, 1/3])"
   ]
  },
  {
   "cell_type": "markdown",
   "metadata": {},
   "source": [
    "### Verify HMM"
   ]
  },
  {
   "cell_type": "code",
   "execution_count": 31,
   "metadata": {},
   "outputs": [
    {
     "name": "stdout",
     "output_type": "stream",
     "text": [
      "Unexpected exception formatting exception. Falling back to standard exception\n"
     ]
    },
    {
     "name": "stderr",
     "output_type": "stream",
     "text": [
      "Traceback (most recent call last):\n",
      "  File \"c:\\Users\\there\\anaconda3\\Lib\\site-packages\\IPython\\core\\interactiveshell.py\", line 3526, in run_code\n",
      "    exec(code_obj, self.user_global_ns, self.user_ns)\n",
      "  File \"C:\\Users\\there\\AppData\\Local\\Temp\\ipykernel_19824\\3630768052.py\", line 1, in <module>\n",
      "    states_stand = h.viterbi(test_stand_data)\n",
      "                   ^^^^^^^^^^^^^^^^^^^^^^^^^^\n",
      "  File \"c:\\Users\\there\\OneDrive\\Desktop\\Master\\PatternRecognition_MachineLearning\\Final_project\\PattRecClasses\\HMM.py\", line 93, in viterbi\n",
      "    return int(states)\n",
      "           ^^^^^^^^^^^\n",
      "TypeError: only size-1 arrays can be converted to Python scalars\n",
      "\n",
      "During handling of the above exception, another exception occurred:\n",
      "\n",
      "Traceback (most recent call last):\n",
      "  File \"c:\\Users\\there\\anaconda3\\Lib\\site-packages\\IPython\\core\\interactiveshell.py\", line 2120, in showtraceback\n",
      "    stb = self.InteractiveTB.structured_traceback(\n",
      "          ^^^^^^^^^^^^^^^^^^^^^^^^^^^^^^^^^^^^^^^^\n",
      "  File \"c:\\Users\\there\\anaconda3\\Lib\\site-packages\\IPython\\core\\ultratb.py\", line 1435, in structured_traceback\n",
      "    return FormattedTB.structured_traceback(\n",
      "           ^^^^^^^^^^^^^^^^^^^^^^^^^^^^^^^^^\n",
      "  File \"c:\\Users\\there\\anaconda3\\Lib\\site-packages\\IPython\\core\\ultratb.py\", line 1326, in structured_traceback\n",
      "    return VerboseTB.structured_traceback(\n",
      "           ^^^^^^^^^^^^^^^^^^^^^^^^^^^^^^^\n",
      "  File \"c:\\Users\\there\\anaconda3\\Lib\\site-packages\\IPython\\core\\ultratb.py\", line 1173, in structured_traceback\n",
      "    formatted_exception = self.format_exception_as_a_whole(etype, evalue, etb, number_of_lines_of_context,\n",
      "                          ^^^^^^^^^^^^^^^^^^^^^^^^^^^^^^^^^^^^^^^^^^^^^^^^^^^^^^^^^^^^^^^^^^^^^^^^^^^^^^^^\n",
      "  File \"c:\\Users\\there\\anaconda3\\Lib\\site-packages\\IPython\\core\\ultratb.py\", line 1088, in format_exception_as_a_whole\n",
      "    frames.append(self.format_record(record))\n",
      "                  ^^^^^^^^^^^^^^^^^^^^^^^^^^\n",
      "  File \"c:\\Users\\there\\anaconda3\\Lib\\site-packages\\IPython\\core\\ultratb.py\", line 970, in format_record\n",
      "    frame_info.lines, Colors, self.has_colors, lvals\n",
      "    ^^^^^^^^^^^^^^^^\n",
      "  File \"c:\\Users\\there\\anaconda3\\Lib\\site-packages\\IPython\\core\\ultratb.py\", line 792, in lines\n",
      "    return self._sd.lines\n",
      "           ^^^^^^^^^^^^^^\n",
      "  File \"c:\\Users\\there\\anaconda3\\Lib\\site-packages\\stack_data\\utils.py\", line 145, in cached_property_wrapper\n",
      "    value = obj.__dict__[self.func.__name__] = self.func(obj)\n",
      "                                               ^^^^^^^^^^^^^^\n",
      "  File \"c:\\Users\\there\\anaconda3\\Lib\\site-packages\\stack_data\\core.py\", line 698, in lines\n",
      "    pieces = self.included_pieces\n",
      "             ^^^^^^^^^^^^^^^^^^^^\n",
      "  File \"c:\\Users\\there\\anaconda3\\Lib\\site-packages\\stack_data\\utils.py\", line 145, in cached_property_wrapper\n",
      "    value = obj.__dict__[self.func.__name__] = self.func(obj)\n",
      "                                               ^^^^^^^^^^^^^^\n",
      "  File \"c:\\Users\\there\\anaconda3\\Lib\\site-packages\\stack_data\\core.py\", line 649, in included_pieces\n",
      "    pos = scope_pieces.index(self.executing_piece)\n",
      "                             ^^^^^^^^^^^^^^^^^^^^\n",
      "  File \"c:\\Users\\there\\anaconda3\\Lib\\site-packages\\stack_data\\utils.py\", line 145, in cached_property_wrapper\n",
      "    value = obj.__dict__[self.func.__name__] = self.func(obj)\n",
      "                                               ^^^^^^^^^^^^^^\n",
      "  File \"c:\\Users\\there\\anaconda3\\Lib\\site-packages\\stack_data\\core.py\", line 628, in executing_piece\n",
      "    return only(\n",
      "           ^^^^^\n",
      "  File \"c:\\Users\\there\\anaconda3\\Lib\\site-packages\\executing\\executing.py\", line 164, in only\n",
      "    raise NotOneValueFound('Expected one value, found 0')\n",
      "executing.executing.NotOneValueFound: Expected one value, found 0\n"
     ]
    }
   ],
   "source": [
    "states_stand = h.viterbi(test_stand_data)\n",
    "states_stand2 = h.viterbi(test_stand_data2)\n",
    "states_stand3 = h.viterbi(test_stand_data3)\n",
    "standing = np.concatenate(states_stand, states_stand2, states_stand3)\n",
    "\n",
    "for t in range(len(standing)):\n",
    "    if standing[t] != 0:\n",
    "        print('wrong state detected at time instance %i', t)\n"
   ]
  }
 ],
 "metadata": {
  "kernelspec": {
   "display_name": "Python 3",
   "language": "python",
   "name": "python3"
  },
  "language_info": {
   "codemirror_mode": {
    "name": "ipython",
    "version": 3
   },
   "file_extension": ".py",
   "mimetype": "text/x-python",
   "name": "python",
   "nbconvert_exporter": "python",
   "pygments_lexer": "ipython3",
   "version": "3.11.5"
  }
 },
 "nbformat": 4,
 "nbformat_minor": 2
}
